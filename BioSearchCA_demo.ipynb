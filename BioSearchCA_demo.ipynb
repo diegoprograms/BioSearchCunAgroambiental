{
 "cells": [
  {
   "cell_type": "code",
   "execution_count": 14,
   "id": "c055fa7b",
   "metadata": {},
   "outputs": [
    {
     "data": {
      "text/html": [
       "\n",
       "\n",
       "<style>\n",
       "div {\n",
       "  text-align: justify;\n",
       "  text-justify: inter-word;\n",
       "}\n",
       "</style>\n",
       "\n",
       "<h1><b>Bienvenido a BioSearchCundiAgroambiental</b><br></h1>\n",
       "\n",
       "<p>\n",
       "<div>\n",
       "A partir del modelo digital transmoderno MEDIT de la Universidad de Cundinamarca, \n",
       "donde una de sus estructuras es la integración y utilización de tecnologías digitales \n",
       "avanzadas para la educación y la investigación, encuentra en la combinación de Pandas \n",
       "y Biopython una herramienta excepcional para el análisis de secuencias biológicas. \n",
       "Este enfoque interdisciplinario y tecnológicamente avanzado, desarrollado por los \n",
       "grupos de investigacion Agrociencia y Cundinamarca Agroambiental pertenecientes a la \n",
       "facultad de Ciencias Agropecuarias, facilita a los investigadores y estudiantes la \n",
       "manipulación eficiente y personalizada de grandes volúmenes de datos biológicos. \n",
       "Utilizando Pandas, se pueden organizar, filtrar y transformar datos de secuencias de \n",
       "manera intuitiva, mientras que Biopython proporciona funciones específicas para la bioinformática,\n",
       "como la lectura y alineación de secuencias. En comparación con herramientas \n",
       "tradicionales como BLAST, esta integración permite una flexibilidad y personalización superiores,\n",
       "esenciales para el análisis exploratorio y estadístico en contextos de investigación avanzada. \n",
       "Así, el MEDIT fomenta una educación y una investigación más profundas y robustas, apoyadas por \n",
       "tecnologías digitales que potencian el descubrimiento y la innovación científica. Por lo tanto, \n",
       "desde los grupos de investigacion, se decide realizar un programa propio que permita el analisis \n",
       "de secuencias, con el fin de integrar a los estudiantes al uso de nuevas tecnologias para los \n",
       "campos investigativos y de aprendizaje.<br>\n",
       "<p>\n",
       "A continuación encontrará las intrucciones de ara la busqueda de secuencias.\n",
       "\n",
       "</div>\n"
      ],
      "text/plain": [
       "<IPython.core.display.HTML object>"
      ]
     },
     "metadata": {},
     "output_type": "display_data"
    },
    {
     "data": {
      "application/vnd.jupyter.widget-view+json": {
       "model_id": "55835f0800ce42faaa477deb80c799eb",
       "version_major": 2,
       "version_minor": 0
      },
      "text/plain": [
       "HTML(value='<h2>BioSearchCA</h2><p>Sube un archivo XML con información genética para su análisis.</p>')"
      ]
     },
     "metadata": {},
     "output_type": "display_data"
    }
   ],
   "source": [
    "import ipywidgets as widgets\n",
    "from IPython.display import display\n",
    "\n",
    "\n",
    "from IPython.display import HTML, display\n",
    "\n",
    "\n",
    "\n",
    "display(HTML('''\n",
    "\n",
    "<style>\n",
    "div {\n",
    "  text-align: justify;\n",
    "  text-justify: inter-word;\n",
    "}\n",
    "</style>\n",
    "\n",
    "<h1><b>Bienvenido a BioSearchCundiAgroambiental</b><br></h1>\n",
    "\n",
    "<p>\n",
    "<div>\n",
    "A partir del modelo digital transmoderno MEDIT de la Universidad de Cundinamarca, \n",
    "donde una de sus estructuras es la integración y utilización de tecnologías digitales \n",
    "avanzadas para la educación y la investigación, encuentra en la combinación de Pandas \n",
    "y Biopython una herramienta excepcional para el análisis de secuencias biológicas. \n",
    "Este enfoque interdisciplinario y tecnológicamente avanzado, desarrollado por los \n",
    "grupos de investigacion Agrociencia y Cundinamarca Agroambiental pertenecientes a la \n",
    "facultad de Ciencias Agropecuarias, facilita a los investigadores y estudiantes la \n",
    "manipulación eficiente y personalizada de grandes volúmenes de datos biológicos. \n",
    "Utilizando Pandas, se pueden organizar, filtrar y transformar datos de secuencias de \n",
    "manera intuitiva, mientras que Biopython proporciona funciones específicas para la bioinformática,\n",
    "como la lectura y alineación de secuencias. En comparación con herramientas \n",
    "tradicionales como BLAST, esta integración permite una flexibilidad y personalización superiores,\n",
    "esenciales para el análisis exploratorio y estadístico en contextos de investigación avanzada. \n",
    "Así, el MEDIT fomenta una educación y una investigación más profundas y robustas, apoyadas por \n",
    "tecnologías digitales que potencian el descubrimiento y la innovación científica. Por lo tanto, \n",
    "desde los grupos de investigacion, se decide realizar un programa propio que permita el analisis \n",
    "de secuencias, con el fin de integrar a los estudiantes al uso de nuevas tecnologias para los \n",
    "campos investigativos y de aprendizaje.<br>\n",
    "<p>\n",
    "A continuación encontrará las intrucciones de ara la busqueda de secuencias.\n",
    "\n",
    "</div>\n",
    "'''))\n",
    "\n",
    "\n",
    "display(widgets.HTML(\"<h2>BioSearchCA</h2><p>Sube un archivo XML con información genética para su análisis.</p>\"))\n"
   ]
  },
  {
   "cell_type": "code",
   "execution_count": null,
   "id": "d21cbc7d",
   "metadata": {},
   "outputs": [],
   "source": [
    "import ipywidgets as widgets\n",
    "from IPython.display import display\n",
    "import os\n",
    "\n",
    "#hello\n",
    "\n",
    "# Widget para cargar archivo\n",
    "uploader = widgets.FileUpload(\n",
    "    accept='.xml',  # tipo de archivo permitido\n",
    "    multiple=False  # permite solo uno a la vez\n",
    ")\n",
    "\n",
    "# Mostrar el uploader\n",
    "display(widgets.HTML(\"<h4>Sube un archivo .xml desde tu equipo</h4>\"))\n",
    "display(uploader)\n",
    "\n",
    "output = widgets.Output()\n",
    "\n",
    "def guardar_archivo(change):\n",
    "    output.clear_output()\n",
    "    with output:\n",
    "        for filename, fileinfo in uploader.value.items():\n",
    "            with open(filename, 'wb') as f:\n",
    "                f.write(fileinfo['content'])\n",
    "            print(f\"Archivo guardado: {filename}\")\n",
    "\n",
    "uploader.observe(guardar_archivo, names='value')\n",
    "display(output)\n",
    "\n"
   ]
  }
 ],
 "metadata": {
  "kernelspec": {
   "display_name": "Python 3 (ipykernel)",
   "language": "python",
   "name": "python3"
  },
  "language_info": {
   "codemirror_mode": {
    "name": "ipython",
    "version": 3
   },
   "file_extension": ".py",
   "mimetype": "text/x-python",
   "name": "python",
   "nbconvert_exporter": "python",
   "pygments_lexer": "ipython3",
   "version": "3.11.7"
  }
 },
 "nbformat": 4,
 "nbformat_minor": 5
}
