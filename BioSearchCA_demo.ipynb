{
  "cells": [
    {
      "cell_type": "markdown",
      "metadata": {},
      "source": [
        "# BioSearchCA - Ejemplo b\u00e1sico de interacci\u00f3n con widgets\n",
        "\n",
        "Este notebook muestra un bot\u00f3n interactivo como demostraci\u00f3n del funcionamiento basado en widgets."
      ]
    },
    {
      "cell_type": "code",
      "execution_count": null,
      "metadata": {},
      "outputs": [],
      "source": [
        "import ipywidgets as widgets\n",
        "from IPython.display import display\n",
        "\n",
        "# Crear el bot\u00f3n\n",
        "boton = widgets.Button(\n",
        "    description='Haz clic aqu\u00ed',\n",
        "    button_style='success',\n",
        "    tooltip='Haz clic para mostrar un mensaje',\n",
        "    icon='check'\n",
        ")\n",
        "\n",
        "# Funci\u00f3n que se ejecuta al hacer clic\n",
        "def al_hacer_click(b):\n",
        "    print(\"\u00a1Hola! Este es un ejemplo de interacci\u00f3n con widgets.\")\n",
        "\n",
        "# Conectar el bot\u00f3n con la funci\u00f3n\n",
        "boton.on_click(al_hacer_click)\n",
        "\n",
        "# Mostrar el bot\u00f3n\n",
        "display(boton)"
      ]
    }
  ],
  "metadata": {
    "kernelspec": {
      "display_name": "Python 3",
      "language": "python",
      "name": "python3"
    },
    "language_info": {
      "name": "python",
      "version": "3.9"
    }
  },
  "nbformat": 4,
  "nbformat_minor": 5
}