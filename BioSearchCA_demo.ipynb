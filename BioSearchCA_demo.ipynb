{
 "cells": [
  {
   "cell_type": "code",
   "execution_count": 1,
   "id": "36db9610",
   "metadata": {},
   "outputs": [],
   "source": [
    "import ipywidgets as widgets\n",
    "from IPython.display import display\n",
    "from IPython.display import HTML, display\n",
    "from funciones_ramificacion_2 import manejar_dropdown"
   ]
  },
  {
   "cell_type": "code",
   "execution_count": 2,
   "id": "1f4e3f51",
   "metadata": {},
   "outputs": [],
   "source": [
    "#variables\n",
    "\n",
    "output1_w1 = widgets.Output()  #output drop 1\n",
    "output2_w2 = widgets.Output()  #output button 2"
   ]
  },
  {
   "cell_type": "code",
   "execution_count": 3,
   "id": "c055fa7b",
   "metadata": {},
   "outputs": [
    {
     "data": {
      "application/vnd.jupyter.widget-view+json": {
       "model_id": "3846f4b8370d43bda36429d308e0d386",
       "version_major": 2,
       "version_minor": 0
      },
      "text/plain": [
       "HTML(value='\\n\\n<style>\\ndiv {\\n  text-align: justify;\\n  text-justify: inter-word;\\n}\\n</style>\\n\\n<h1><b>Bie…"
      ]
     },
     "metadata": {},
     "output_type": "display_data"
    }
   ],
   "source": [
    "\n",
    "\n",
    "\n",
    "\n",
    "display(widgets.HTML('''\n",
    "\n",
    "<style>\n",
    "div {\n",
    "  text-align: justify;\n",
    "  text-justify: inter-word;\n",
    "}\n",
    "</style>\n",
    "\n",
    "<h1><b>Bienvenido a BioSearchCundiAgroambiental</b><br></h1>\n",
    "\n",
    "<p>\n",
    "<div>\n",
    "A partir del modelo digital transmoderno MEDIT de la Universidad de Cundinamarca, \n",
    "donde una de sus estructuras es la integración y utilización de tecnologías digitales \n",
    "avanzadas para la educación y la investigación, encuentra en la combinación de Pandas \n",
    "y Biopython una herramienta excepcional para el análisis de secuencias biológicas. \n",
    "Este enfoque interdisciplinario y tecnológicamente avanzado, desarrollado por los \n",
    "grupos de investigación Agrociencia y Cundinamarca Agroambiental pertenecientes a la \n",
    "facultad de Ciencias Agropecuarias, facilita a los investigadores y estudiantes la \n",
    "manipulación eficiente y personalizada de grandes volúmenes de datos biológicos. \n",
    "Utilizando Pandas, se pueden organizar, filtrar y transformar datos de secuencias de \n",
    "manera intuitiva, mientras que Biopython proporciona funciones específicas para la bioinformática,\n",
    "como la lectura y alineación de secuencias. En comparación con herramientas \n",
    "tradicionales como BLAST, esta integración permite una flexibilidad y personalización superiores,\n",
    "esenciales para el análisis exploratorio y estadístico en contextos de investigación avanzada. \n",
    "Así, el MEDIT fomenta una educación y una investigación más profundas y robustas, apoyadas por \n",
    "tecnologías digitales que potencian el descubrimiento y la innovación científica. Por lo tanto, \n",
    "desde los grupos de investigación, se decide realizar un programa propio que permita el análisis \n",
    "de secuencias, con el fin de integrar a los estudiantes al uso de nuevas tecnologías para los \n",
    "campos investigativos y de aprendizaje.<br>\n",
    "<br>\n",
    "A continuación encontrará las intrucciones para la busqueda de secuencias.\n",
    "\n",
    "</div>\n",
    "\n",
    "<h2>BioSearchCA</h2>\n",
    "\n",
    "<p>\n",
    "\n",
    "\n",
    "El primer paso en BLAST es introducir la secuencia, sea un nucletido o una proteina, con el fin de compararla con las bases de datos existentes. Por lo tanto, en este programa el usuario puede:\n",
    "\n",
    "<ul>\n",
    "    <li>Copiar y pegar la secuencia. La secuencia puede estar en minuscula o mayuscula.</li>\n",
    "    <li>Subir el archivo desde su computador personal.</li>\n",
    "</ul>\n",
    "\n",
    "Seleccione la opcion a continuacion:\n",
    "\n",
    "</p>\n",
    "'''))\n",
    "\n",
    "\n",
    "\n"
   ]
  },
  {
   "cell_type": "code",
   "execution_count": 4,
   "id": "cee52735",
   "metadata": {},
   "outputs": [],
   "source": [
    "# Se crean los widget\n",
    "\n",
    "#PRIMER WIDGET\n",
    "w1_dropdown = widgets.Dropdown(\n",
    "    options=['Seleccione una opcion', '1. Copiar secuencia', '2. Subir archivo'],\n",
    "    value='Seleccione una opcion',\n",
    "    description='Seleccionar:'\n",
    ")\n",
    "\n"
   ]
  },
  {
   "cell_type": "code",
   "execution_count": 5,
   "id": "110c485f",
   "metadata": {},
   "outputs": [],
   "source": [
    "#RAMIFICACION PARA LA ELECCION 1.\n",
    "\n",
    "w1_adn_protenia_text = widgets.Text(description=\"Escribe:\")\n",
    "w1_adn_protenia_text.layout.display = 'none'\n"
   ]
  },
  {
   "cell_type": "code",
   "execution_count": 6,
   "id": "1c7cadf5",
   "metadata": {},
   "outputs": [],
   "source": [
    "#RAMIFICACION PARA LA ELECCION 2.\n",
    "w2_file_upload = widgets.FileUpload(\n",
    "    accept='.fas,.fasta',\n",
    "    multiple=False\n",
    ")\n",
    "\n",
    "w3_dropdown = widgets.Dropdown(\n",
    "    options=['Seleccionar opcion', '1. Buscar secuencias en NCBI', '2. Trasladar a secuencias de proteina'],\n",
    "    value='Seleccionar opcion',\n",
    "    description='Seleccionar:'\n",
    ")\n",
    "\n",
    "# Ocultar ambos inicialmente\n",
    "w2_file_upload.layout.display = 'none'\n",
    "w3_dropdown.layout.display = 'none'\n"
   ]
  },
  {
   "cell_type": "code",
   "execution_count": 7,
   "id": "4e10f339",
   "metadata": {},
   "outputs": [],
   "source": [
    "#RAMIFICACION DE WIDGETS PARA CAMINO 2.1\n",
    "\n",
    "w4_text_name_file = widgets.Text(\n",
    "    value='',\n",
    "    placeholder=\"filename\",\n",
    "    disabled=False\n",
    ")\n",
    "\n",
    "\n",
    "w4_button_create_folder = widgets.Button(\n",
    "    description='Crear carpeta',\n",
    "    disabled=False,\n",
    "    button_style='success',  # 'success', 'info', 'warning', 'danger' or ''\n",
    "    icon='check'\n",
    ")\n",
    "\n",
    "# Create a button widget\n",
    "w5_button_analysis = widgets.Button(\n",
    "    description='Buscar secuencias',\n",
    "    disabled=False,\n",
    "    button_style='info',  # 'success', 'info', 'warning', 'danger' or ''\n",
    "    icon='check'\n",
    ")"
   ]
  },
  {
   "cell_type": "code",
   "execution_count": 8,
   "id": "99308062",
   "metadata": {},
   "outputs": [],
   "source": [
    "# def on_dropdown_change(change):\n",
    "#     selected = change['new']\n",
    "#     if selected == \"1. Copiar secuencia\":\n",
    "#         w1_adn_protenia_text.layout.display = 'inline-flex'\n",
    "#         w2_file_upload.layout.display = 'none'\n",
    "#         w3_dropdown.layout.display = 'none'\n",
    "        \n",
    "#     elif selected == \"2. Subir archivo\":\n",
    "#         w1_adn_protenia_text.layout.display = 'none'\n",
    "#         w2_file_upload.layout.display = 'inline-flex'\n",
    "#         w3_dropdown.layout.display = 'inline-flex'\n",
    "#     else:\n",
    "#         # Si se vuelve a \"Seleccione una opción\"\n",
    "#         w1_adn_protenia_text.layout.display = 'none'\n",
    "#         w2_file_upload.layout.display = 'none'\n",
    "#         w3_dropdown.layout.display = 'none'"
   ]
  },
  {
   "cell_type": "code",
   "execution_count": 9,
   "id": "901a1dc6",
   "metadata": {},
   "outputs": [
    {
     "data": {
      "application/vnd.jupyter.widget-view+json": {
       "model_id": "d13d5425f40f4e7586127858a9f580d0",
       "version_major": 2,
       "version_minor": 0
      },
      "text/plain": [
       "Dropdown(description='Seleccionar:', options=('Seleccione una opcion', '1. Copiar secuencia', '2. Subir archiv…"
      ]
     },
     "metadata": {},
     "output_type": "display_data"
    },
    {
     "data": {
      "application/vnd.jupyter.widget-view+json": {
       "model_id": "ad68ac7c25e940e582b4788780f80759",
       "version_major": 2,
       "version_minor": 0
      },
      "text/plain": [
       "Text(value='', description='Escribe:', layout=Layout(display='none'))"
      ]
     },
     "metadata": {},
     "output_type": "display_data"
    },
    {
     "data": {
      "application/vnd.jupyter.widget-view+json": {
       "model_id": "34ed584690e7430ea26f2d2143c0bb6e",
       "version_major": 2,
       "version_minor": 0
      },
      "text/plain": [
       "FileUpload(value={}, accept='.fas,.fasta', description='Upload', layout=Layout(display='none'))"
      ]
     },
     "metadata": {},
     "output_type": "display_data"
    },
    {
     "data": {
      "application/vnd.jupyter.widget-view+json": {
       "model_id": "56d40e2a3f854d7e9b948065a1d956fa",
       "version_major": 2,
       "version_minor": 0
      },
      "text/plain": [
       "Dropdown(description='Seleccionar:', layout=Layout(display='none'), options=('Seleccionar opcion', '1. Buscar …"
      ]
     },
     "metadata": {},
     "output_type": "display_data"
    },
    {
     "ename": "NameError",
     "evalue": "name 'selected' is not defined",
     "output_type": "error",
     "traceback": [
      "\u001b[1;31m---------------------------------------------------------------------------\u001b[0m",
      "\u001b[1;31mNameError\u001b[0m                                 Traceback (most recent call last)",
      "File \u001b[1;32m~\\anaconda3\\Lib\\site-packages\\ipywidgets\\widgets\\widget.py:676\u001b[0m, in \u001b[0;36mWidget._handle_msg\u001b[1;34m(self, msg)\u001b[0m\n\u001b[0;32m    674\u001b[0m         \u001b[38;5;28;01mif\u001b[39;00m \u001b[38;5;124m'\u001b[39m\u001b[38;5;124mbuffer_paths\u001b[39m\u001b[38;5;124m'\u001b[39m \u001b[38;5;129;01min\u001b[39;00m data:\n\u001b[0;32m    675\u001b[0m             _put_buffers(state, data[\u001b[38;5;124m'\u001b[39m\u001b[38;5;124mbuffer_paths\u001b[39m\u001b[38;5;124m'\u001b[39m], msg[\u001b[38;5;124m'\u001b[39m\u001b[38;5;124mbuffers\u001b[39m\u001b[38;5;124m'\u001b[39m])\n\u001b[1;32m--> 676\u001b[0m         \u001b[38;5;28mself\u001b[39m\u001b[38;5;241m.\u001b[39mset_state(state)\n\u001b[0;32m    678\u001b[0m \u001b[38;5;66;03m# Handle a state request.\u001b[39;00m\n\u001b[0;32m    679\u001b[0m \u001b[38;5;28;01melif\u001b[39;00m method \u001b[38;5;241m==\u001b[39m \u001b[38;5;124m'\u001b[39m\u001b[38;5;124mrequest_state\u001b[39m\u001b[38;5;124m'\u001b[39m:\n",
      "File \u001b[1;32m~\\anaconda3\\Lib\\site-packages\\ipywidgets\\widgets\\widget.py:540\u001b[0m, in \u001b[0;36mWidget.set_state\u001b[1;34m(self, sync_data)\u001b[0m\n\u001b[0;32m    536\u001b[0m \u001b[38;5;250m\u001b[39m\u001b[38;5;124;03m\"\"\"Called when a state is received from the front-end.\"\"\"\u001b[39;00m\n\u001b[0;32m    537\u001b[0m \u001b[38;5;66;03m# The order of these context managers is important. Properties must\u001b[39;00m\n\u001b[0;32m    538\u001b[0m \u001b[38;5;66;03m# be locked when the hold_trait_notification context manager is\u001b[39;00m\n\u001b[0;32m    539\u001b[0m \u001b[38;5;66;03m# released and notifications are fired.\u001b[39;00m\n\u001b[1;32m--> 540\u001b[0m \u001b[38;5;28;01mwith\u001b[39;00m \u001b[38;5;28mself\u001b[39m\u001b[38;5;241m.\u001b[39m_lock_property(\u001b[38;5;241m*\u001b[39m\u001b[38;5;241m*\u001b[39msync_data), \u001b[38;5;28mself\u001b[39m\u001b[38;5;241m.\u001b[39mhold_trait_notifications():\n\u001b[0;32m    541\u001b[0m     \u001b[38;5;28;01mfor\u001b[39;00m name \u001b[38;5;129;01min\u001b[39;00m sync_data:\n\u001b[0;32m    542\u001b[0m         \u001b[38;5;28;01mif\u001b[39;00m name \u001b[38;5;129;01min\u001b[39;00m \u001b[38;5;28mself\u001b[39m\u001b[38;5;241m.\u001b[39mkeys:\n",
      "File \u001b[1;32m~\\anaconda3\\Lib\\contextlib.py:144\u001b[0m, in \u001b[0;36m_GeneratorContextManager.__exit__\u001b[1;34m(self, typ, value, traceback)\u001b[0m\n\u001b[0;32m    142\u001b[0m \u001b[38;5;28;01mif\u001b[39;00m typ \u001b[38;5;129;01mis\u001b[39;00m \u001b[38;5;28;01mNone\u001b[39;00m:\n\u001b[0;32m    143\u001b[0m     \u001b[38;5;28;01mtry\u001b[39;00m:\n\u001b[1;32m--> 144\u001b[0m         \u001b[38;5;28mnext\u001b[39m(\u001b[38;5;28mself\u001b[39m\u001b[38;5;241m.\u001b[39mgen)\n\u001b[0;32m    145\u001b[0m     \u001b[38;5;28;01mexcept\u001b[39;00m \u001b[38;5;167;01mStopIteration\u001b[39;00m:\n\u001b[0;32m    146\u001b[0m         \u001b[38;5;28;01mreturn\u001b[39;00m \u001b[38;5;28;01mFalse\u001b[39;00m\n",
      "File \u001b[1;32m~\\anaconda3\\Lib\\site-packages\\traitlets\\traitlets.py:1498\u001b[0m, in \u001b[0;36mHasTraits.hold_trait_notifications\u001b[1;34m(self)\u001b[0m\n\u001b[0;32m   1496\u001b[0m \u001b[38;5;28;01mfor\u001b[39;00m changes \u001b[38;5;129;01min\u001b[39;00m cache\u001b[38;5;241m.\u001b[39mvalues():\n\u001b[0;32m   1497\u001b[0m     \u001b[38;5;28;01mfor\u001b[39;00m change \u001b[38;5;129;01min\u001b[39;00m changes:\n\u001b[1;32m-> 1498\u001b[0m         \u001b[38;5;28mself\u001b[39m\u001b[38;5;241m.\u001b[39mnotify_change(change)\n",
      "File \u001b[1;32m~\\anaconda3\\Lib\\site-packages\\ipywidgets\\widgets\\widget.py:606\u001b[0m, in \u001b[0;36mWidget.notify_change\u001b[1;34m(self, change)\u001b[0m\n\u001b[0;32m    603\u001b[0m     \u001b[38;5;28;01mif\u001b[39;00m name \u001b[38;5;129;01min\u001b[39;00m \u001b[38;5;28mself\u001b[39m\u001b[38;5;241m.\u001b[39mkeys \u001b[38;5;129;01mand\u001b[39;00m \u001b[38;5;28mself\u001b[39m\u001b[38;5;241m.\u001b[39m_should_send_property(name, \u001b[38;5;28mgetattr\u001b[39m(\u001b[38;5;28mself\u001b[39m, name)):\n\u001b[0;32m    604\u001b[0m         \u001b[38;5;66;03m# Send new state to front-end\u001b[39;00m\n\u001b[0;32m    605\u001b[0m         \u001b[38;5;28mself\u001b[39m\u001b[38;5;241m.\u001b[39msend_state(key\u001b[38;5;241m=\u001b[39mname)\n\u001b[1;32m--> 606\u001b[0m \u001b[38;5;28msuper\u001b[39m(Widget, \u001b[38;5;28mself\u001b[39m)\u001b[38;5;241m.\u001b[39mnotify_change(change)\n",
      "File \u001b[1;32m~\\anaconda3\\Lib\\site-packages\\traitlets\\traitlets.py:1513\u001b[0m, in \u001b[0;36mHasTraits.notify_change\u001b[1;34m(self, change)\u001b[0m\n\u001b[0;32m   1511\u001b[0m \u001b[38;5;28;01mdef\u001b[39;00m \u001b[38;5;21mnotify_change\u001b[39m(\u001b[38;5;28mself\u001b[39m, change):\n\u001b[0;32m   1512\u001b[0m \u001b[38;5;250m    \u001b[39m\u001b[38;5;124;03m\"\"\"Notify observers of a change event\"\"\"\u001b[39;00m\n\u001b[1;32m-> 1513\u001b[0m     \u001b[38;5;28;01mreturn\u001b[39;00m \u001b[38;5;28mself\u001b[39m\u001b[38;5;241m.\u001b[39m_notify_observers(change)\n",
      "File \u001b[1;32m~\\anaconda3\\Lib\\site-packages\\traitlets\\traitlets.py:1560\u001b[0m, in \u001b[0;36mHasTraits._notify_observers\u001b[1;34m(self, event)\u001b[0m\n\u001b[0;32m   1557\u001b[0m \u001b[38;5;28;01melif\u001b[39;00m \u001b[38;5;28misinstance\u001b[39m(c, EventHandler) \u001b[38;5;129;01mand\u001b[39;00m c\u001b[38;5;241m.\u001b[39mname \u001b[38;5;129;01mis\u001b[39;00m \u001b[38;5;129;01mnot\u001b[39;00m \u001b[38;5;28;01mNone\u001b[39;00m:\n\u001b[0;32m   1558\u001b[0m     c \u001b[38;5;241m=\u001b[39m \u001b[38;5;28mgetattr\u001b[39m(\u001b[38;5;28mself\u001b[39m, c\u001b[38;5;241m.\u001b[39mname)\n\u001b[1;32m-> 1560\u001b[0m c(event)\n",
      "File \u001b[1;32m~\\anaconda3\\Lib\\site-packages\\ipywidgets\\widgets\\widget_selection.py:235\u001b[0m, in \u001b[0;36m_Selection._propagate_index\u001b[1;34m(self, change)\u001b[0m\n\u001b[0;32m    233\u001b[0m     \u001b[38;5;28mself\u001b[39m\u001b[38;5;241m.\u001b[39mlabel \u001b[38;5;241m=\u001b[39m label\n\u001b[0;32m    234\u001b[0m \u001b[38;5;28;01mif\u001b[39;00m \u001b[38;5;28mself\u001b[39m\u001b[38;5;241m.\u001b[39mvalue \u001b[38;5;129;01mis\u001b[39;00m \u001b[38;5;129;01mnot\u001b[39;00m value:\n\u001b[1;32m--> 235\u001b[0m     \u001b[38;5;28mself\u001b[39m\u001b[38;5;241m.\u001b[39mvalue \u001b[38;5;241m=\u001b[39m value\n",
      "File \u001b[1;32m~\\anaconda3\\Lib\\site-packages\\traitlets\\traitlets.py:729\u001b[0m, in \u001b[0;36mTraitType.__set__\u001b[1;34m(self, obj, value)\u001b[0m\n\u001b[0;32m    727\u001b[0m     \u001b[38;5;28;01mraise\u001b[39;00m TraitError(\u001b[38;5;124m'\u001b[39m\u001b[38;5;124mThe \u001b[39m\u001b[38;5;124m\"\u001b[39m\u001b[38;5;132;01m%s\u001b[39;00m\u001b[38;5;124m\"\u001b[39m\u001b[38;5;124m trait is read-only.\u001b[39m\u001b[38;5;124m'\u001b[39m \u001b[38;5;241m%\u001b[39m \u001b[38;5;28mself\u001b[39m\u001b[38;5;241m.\u001b[39mname)\n\u001b[0;32m    728\u001b[0m \u001b[38;5;28;01melse\u001b[39;00m:\n\u001b[1;32m--> 729\u001b[0m     \u001b[38;5;28mself\u001b[39m\u001b[38;5;241m.\u001b[39mset(obj, value)\n",
      "File \u001b[1;32m~\\anaconda3\\Lib\\site-packages\\traitlets\\traitlets.py:718\u001b[0m, in \u001b[0;36mTraitType.set\u001b[1;34m(self, obj, value)\u001b[0m\n\u001b[0;32m    714\u001b[0m     silent \u001b[38;5;241m=\u001b[39m \u001b[38;5;28;01mFalse\u001b[39;00m\n\u001b[0;32m    715\u001b[0m \u001b[38;5;28;01mif\u001b[39;00m silent \u001b[38;5;129;01mis\u001b[39;00m \u001b[38;5;129;01mnot\u001b[39;00m \u001b[38;5;28;01mTrue\u001b[39;00m:\n\u001b[0;32m    716\u001b[0m     \u001b[38;5;66;03m# we explicitly compare silent to True just in case the equality\u001b[39;00m\n\u001b[0;32m    717\u001b[0m     \u001b[38;5;66;03m# comparison above returns something other than True/False\u001b[39;00m\n\u001b[1;32m--> 718\u001b[0m     obj\u001b[38;5;241m.\u001b[39m_notify_trait(\u001b[38;5;28mself\u001b[39m\u001b[38;5;241m.\u001b[39mname, old_value, new_value)\n",
      "File \u001b[1;32m~\\anaconda3\\Lib\\site-packages\\traitlets\\traitlets.py:1501\u001b[0m, in \u001b[0;36mHasTraits._notify_trait\u001b[1;34m(self, name, old_value, new_value)\u001b[0m\n\u001b[0;32m   1500\u001b[0m \u001b[38;5;28;01mdef\u001b[39;00m \u001b[38;5;21m_notify_trait\u001b[39m(\u001b[38;5;28mself\u001b[39m, name, old_value, new_value):\n\u001b[1;32m-> 1501\u001b[0m     \u001b[38;5;28mself\u001b[39m\u001b[38;5;241m.\u001b[39mnotify_change(\n\u001b[0;32m   1502\u001b[0m         Bunch(\n\u001b[0;32m   1503\u001b[0m             name\u001b[38;5;241m=\u001b[39mname,\n\u001b[0;32m   1504\u001b[0m             old\u001b[38;5;241m=\u001b[39mold_value,\n\u001b[0;32m   1505\u001b[0m             new\u001b[38;5;241m=\u001b[39mnew_value,\n\u001b[0;32m   1506\u001b[0m             owner\u001b[38;5;241m=\u001b[39m\u001b[38;5;28mself\u001b[39m,\n\u001b[0;32m   1507\u001b[0m             \u001b[38;5;28mtype\u001b[39m\u001b[38;5;241m=\u001b[39m\u001b[38;5;124m\"\u001b[39m\u001b[38;5;124mchange\u001b[39m\u001b[38;5;124m\"\u001b[39m,\n\u001b[0;32m   1508\u001b[0m         )\n\u001b[0;32m   1509\u001b[0m     )\n",
      "File \u001b[1;32m~\\anaconda3\\Lib\\site-packages\\ipywidgets\\widgets\\widget.py:606\u001b[0m, in \u001b[0;36mWidget.notify_change\u001b[1;34m(self, change)\u001b[0m\n\u001b[0;32m    603\u001b[0m     \u001b[38;5;28;01mif\u001b[39;00m name \u001b[38;5;129;01min\u001b[39;00m \u001b[38;5;28mself\u001b[39m\u001b[38;5;241m.\u001b[39mkeys \u001b[38;5;129;01mand\u001b[39;00m \u001b[38;5;28mself\u001b[39m\u001b[38;5;241m.\u001b[39m_should_send_property(name, \u001b[38;5;28mgetattr\u001b[39m(\u001b[38;5;28mself\u001b[39m, name)):\n\u001b[0;32m    604\u001b[0m         \u001b[38;5;66;03m# Send new state to front-end\u001b[39;00m\n\u001b[0;32m    605\u001b[0m         \u001b[38;5;28mself\u001b[39m\u001b[38;5;241m.\u001b[39msend_state(key\u001b[38;5;241m=\u001b[39mname)\n\u001b[1;32m--> 606\u001b[0m \u001b[38;5;28msuper\u001b[39m(Widget, \u001b[38;5;28mself\u001b[39m)\u001b[38;5;241m.\u001b[39mnotify_change(change)\n",
      "File \u001b[1;32m~\\anaconda3\\Lib\\site-packages\\traitlets\\traitlets.py:1513\u001b[0m, in \u001b[0;36mHasTraits.notify_change\u001b[1;34m(self, change)\u001b[0m\n\u001b[0;32m   1511\u001b[0m \u001b[38;5;28;01mdef\u001b[39;00m \u001b[38;5;21mnotify_change\u001b[39m(\u001b[38;5;28mself\u001b[39m, change):\n\u001b[0;32m   1512\u001b[0m \u001b[38;5;250m    \u001b[39m\u001b[38;5;124;03m\"\"\"Notify observers of a change event\"\"\"\u001b[39;00m\n\u001b[1;32m-> 1513\u001b[0m     \u001b[38;5;28;01mreturn\u001b[39;00m \u001b[38;5;28mself\u001b[39m\u001b[38;5;241m.\u001b[39m_notify_observers(change)\n",
      "File \u001b[1;32m~\\anaconda3\\Lib\\site-packages\\traitlets\\traitlets.py:1560\u001b[0m, in \u001b[0;36mHasTraits._notify_observers\u001b[1;34m(self, event)\u001b[0m\n\u001b[0;32m   1557\u001b[0m \u001b[38;5;28;01melif\u001b[39;00m \u001b[38;5;28misinstance\u001b[39m(c, EventHandler) \u001b[38;5;129;01mand\u001b[39;00m c\u001b[38;5;241m.\u001b[39mname \u001b[38;5;129;01mis\u001b[39;00m \u001b[38;5;129;01mnot\u001b[39;00m \u001b[38;5;28;01mNone\u001b[39;00m:\n\u001b[0;32m   1558\u001b[0m     c \u001b[38;5;241m=\u001b[39m \u001b[38;5;28mgetattr\u001b[39m(\u001b[38;5;28mself\u001b[39m, c\u001b[38;5;241m.\u001b[39mname)\n\u001b[1;32m-> 1560\u001b[0m c(event)\n",
      "File \u001b[1;32m~\\OneDrive\\rosas\\ensayo\\ensayo\\funciones_ramificacion_2.py:16\u001b[0m, in \u001b[0;36mmanejar_dropdown.<locals>.on_dropdown_change\u001b[1;34m(change)\u001b[0m\n\u001b[0;32m     12\u001b[0m \u001b[38;5;28;01mdef\u001b[39;00m \u001b[38;5;21mon_dropdown_change\u001b[39m(change):\n\u001b[0;32m     14\u001b[0m     seleccionado \u001b[38;5;241m=\u001b[39m change[\u001b[38;5;124m'\u001b[39m\u001b[38;5;124mnew\u001b[39m\u001b[38;5;124m'\u001b[39m]\n\u001b[1;32m---> 16\u001b[0m     \u001b[38;5;28;01mif\u001b[39;00m selected \u001b[38;5;241m==\u001b[39m \u001b[38;5;124m\"\u001b[39m\u001b[38;5;124m1. Copiar secuencia\u001b[39m\u001b[38;5;124m\"\u001b[39m:\n\u001b[0;32m     17\u001b[0m         w1_adn_protenia_text\u001b[38;5;241m.\u001b[39mlayout\u001b[38;5;241m.\u001b[39mdisplay \u001b[38;5;241m=\u001b[39m \u001b[38;5;124m'\u001b[39m\u001b[38;5;124minline-flex\u001b[39m\u001b[38;5;124m'\u001b[39m\n\u001b[0;32m     18\u001b[0m         w2_file_upload\u001b[38;5;241m.\u001b[39mlayout\u001b[38;5;241m.\u001b[39mdisplay \u001b[38;5;241m=\u001b[39m \u001b[38;5;124m'\u001b[39m\u001b[38;5;124mnone\u001b[39m\u001b[38;5;124m'\u001b[39m\n",
      "\u001b[1;31mNameError\u001b[0m: name 'selected' is not defined"
     ]
    }
   ],
   "source": [
    "#mostar los widget\n",
    "\n",
    "\n",
    "display(w1_dropdown)# ver primer selector\n",
    "display(w1_adn_protenia_text)#ver ramificacion 1 \n",
    "display(w2_file_upload, w3_dropdown) #ver ramificacion 2\n",
    "#display(w4_text_name_file, w5_button_analysis) #ver ramificacion 2.1\n",
    "\n"
   ]
  },
  {
   "cell_type": "code",
   "execution_count": 10,
   "id": "2480778a",
   "metadata": {},
   "outputs": [],
   "source": [
    "#LLAMAR FUNCIONES DE LOS WIDGETS\n",
    "\n",
    "#w1_dropdown.observe(on_dropdown_change, names='value')\n",
    "manejar_dropdown(w1_dropdown, w1_adn_protenia_text, w2_file_upload, w3_dropdown)"
   ]
  },
  {
   "cell_type": "code",
   "execution_count": 11,
   "id": "d21cbc7d",
   "metadata": {},
   "outputs": [],
   "source": [
    "# import ipywidgets as widgets\n",
    "# from IPython.display import display\n",
    "# import os\n",
    "\n",
    "# #hello\n",
    "\n",
    "# # Widget para cargar archivo\n",
    "# uploader = widgets.FileUpload(\n",
    "#     accept='.xml',  # tipo de archivo permitido\n",
    "#     multiple=False  # permite solo uno a la vez\n",
    "# )\n",
    "\n",
    "# # Mostrar el uploader\n",
    "# display(widgets.HTML(\"<h4>Sube un archivo .xml desde tu equipo</h4>\"))\n",
    "# display(uploader)\n",
    "\n",
    "# output = widgets.Output()\n",
    "\n",
    "# def guardar_archivo(change):\n",
    "#     output.clear_output()\n",
    "#     with output:\n",
    "#         for filename, fileinfo in uploader.value.items():\n",
    "#             with open(filename, 'wb') as f:\n",
    "#                 f.write(fileinfo['content'])\n",
    "#             print(f\"Archivo guardado: {filename}\")\n",
    "\n",
    "# uploader.observe(guardar_archivo, names='value')\n",
    "# display(output)\n",
    "\n"
   ]
  }
 ],
 "metadata": {
  "kernelspec": {
   "display_name": "Python 3 (ipykernel)",
   "language": "python",
   "name": "python3"
  },
  "language_info": {
   "codemirror_mode": {
    "name": "ipython",
    "version": 3
   },
   "file_extension": ".py",
   "mimetype": "text/x-python",
   "name": "python",
   "nbconvert_exporter": "python",
   "pygments_lexer": "ipython3",
   "version": "3.11.7"
  }
 },
 "nbformat": 4,
 "nbformat_minor": 5
}
