{
 "cells": [
  {
   "cell_type": "code",
   "execution_count": 1,
   "id": "36db9610",
   "metadata": {},
   "outputs": [],
   "source": [
    "import ipywidgets as widgets\n",
    "from IPython.display import display\n",
    "from IPython.display import HTML, display"
   ]
  },
  {
   "cell_type": "code",
   "execution_count": 2,
   "id": "1f4e3f51",
   "metadata": {},
   "outputs": [],
   "source": [
    "#variables\n",
    "\n",
    "output1_w1 = widgets.Output()  #output drop 1\n",
    "output2_w2 = widgets.Output()  #output button 2"
   ]
  },
  {
   "cell_type": "code",
   "execution_count": 3,
   "id": "c055fa7b",
   "metadata": {},
   "outputs": [
    {
     "data": {
      "application/vnd.jupyter.widget-view+json": {
       "model_id": "cfa9c80972e547828194295708419c07",
       "version_major": 2,
       "version_minor": 0
      },
      "text/plain": [
       "HTML(value='\\n\\n<style>\\ndiv {\\n  text-align: justify;\\n  text-justify: inter-word;\\n}\\n</style>\\n\\n<h1><b>Bie…"
      ]
     },
     "metadata": {},
     "output_type": "display_data"
    }
   ],
   "source": [
    "\n",
    "\n",
    "\n",
    "\n",
    "display(widgets.HTML('''\n",
    "\n",
    "<style>\n",
    "div {\n",
    "  text-align: justify;\n",
    "  text-justify: inter-word;\n",
    "}\n",
    "</style>\n",
    "\n",
    "<h1><b>Bienvenido a BioSearchCundiAgroambiental</b><br></h1>\n",
    "\n",
    "<p>\n",
    "<div>\n",
    "A partir del modelo digital transmoderno MEDIT de la Universidad de Cundinamarca, \n",
    "donde una de sus estructuras es la integración y utilización de tecnologías digitales \n",
    "avanzadas para la educación y la investigación, encuentra en la combinación de Pandas \n",
    "y Biopython una herramienta excepcional para el análisis de secuencias biológicas. \n",
    "Este enfoque interdisciplinario y tecnológicamente avanzado, desarrollado por los \n",
    "grupos de investigación Agrociencia y Cundinamarca Agroambiental pertenecientes a la \n",
    "facultad de Ciencias Agropecuarias, facilita a los investigadores y estudiantes la \n",
    "manipulación eficiente y personalizada de grandes volúmenes de datos biológicos. \n",
    "Utilizando Pandas, se pueden organizar, filtrar y transformar datos de secuencias de \n",
    "manera intuitiva, mientras que Biopython proporciona funciones específicas para la bioinformática,\n",
    "como la lectura y alineación de secuencias. En comparación con herramientas \n",
    "tradicionales como BLAST, esta integración permite una flexibilidad y personalización superiores,\n",
    "esenciales para el análisis exploratorio y estadístico en contextos de investigación avanzada. \n",
    "Así, el MEDIT fomenta una educación y una investigación más profundas y robustas, apoyadas por \n",
    "tecnologías digitales que potencian el descubrimiento y la innovación científica. Por lo tanto, \n",
    "desde los grupos de investigación, se decide realizar un programa propio que permita el análisis \n",
    "de secuencias, con el fin de integrar a los estudiantes al uso de nuevas tecnologías para los \n",
    "campos investigativos y de aprendizaje.<br>\n",
    "<br>\n",
    "A continuación encontrará las intrucciones para la busqueda de secuencias.\n",
    "\n",
    "</div>\n",
    "\n",
    "<h2>BioSearchCA</h2>\n",
    "\n",
    "<p>\n",
    "\n",
    "\n",
    "El primer paso en BLAST es introducir la secuencia, sea un nucletido o una proteina, con el fin de compararla con las bases de datos existentes. Por lo tanto, en este programa el usuario puede:\n",
    "\n",
    "<ul>\n",
    "    <li>Copiar y pegar la secuencia. La secuencia puede estar en minuscula o mayuscula.</li>\n",
    "    <li>Subir el archivo desde su computador personal.</li>\n",
    "</ul>\n",
    "\n",
    "Seleccione la opcion a continuacion:\n",
    "\n",
    "</p>\n",
    "'''))\n",
    "\n",
    "\n",
    "\n"
   ]
  },
  {
   "cell_type": "code",
   "execution_count": 4,
   "id": "cee52735",
   "metadata": {},
   "outputs": [],
   "source": [
    "# Se crean los widget\n",
    "\n",
    "#PRIMER WIDGET\n",
    "w1_dropdown = widgets.Dropdown(\n",
    "    options=['Seleccione una opcion', '1. Copiar secuencia', '2. Subir archivo'],\n",
    "    value='Seleccione una opcion',\n",
    "    description='Seleccionar:'\n",
    ")\n",
    "\n"
   ]
  },
  {
   "cell_type": "code",
   "execution_count": 5,
   "id": "1c7cadf5",
   "metadata": {},
   "outputs": [],
   "source": [
    "#RAMIFICACION PARA LA ELECCION 2.\n",
    "w2_file_upload = widgets.FileUpload(\n",
    "    accept='.fas,.fasta',\n",
    "    multiple=False\n",
    ")\n",
    "\n",
    "w3_dropdown = widgets.Dropdown(\n",
    "    options=['Seleccionar opcion', '1. Buscar secuencias en NCBI', '2. Trasladar a secuencias de proteina'],\n",
    "    value='Seleccionar opcion',\n",
    "    description='Seleccionar:'\n",
    ")\n",
    "\n"
   ]
  },
  {
   "cell_type": "code",
   "execution_count": 6,
   "id": "4e10f339",
   "metadata": {},
   "outputs": [],
   "source": [
    "#RAMIFICACION DE WIDGETS PARA CAMINO 2.1\n",
    "\n",
    "w4_text_name_file = widgets.Text(\n",
    "    value='',\n",
    "    placeholder=\"filename\",\n",
    "    disabled=False\n",
    ")\n",
    "\n",
    "\n",
    "w4_button_create_folder = widgets.Button(\n",
    "    description='Crear carpeta',\n",
    "    disabled=False,\n",
    "    button_style='success',  # 'success', 'info', 'warning', 'danger' or ''\n",
    "    icon='check'\n",
    ")\n",
    "\n",
    "# Create a button widget\n",
    "w5_button_analysis = widgets.Button(\n",
    "    description='Buscar secuencias',\n",
    "    disabled=False,\n",
    "    button_style='info',  # 'success', 'info', 'warning', 'danger' or ''\n",
    "    icon='check'\n",
    ")"
   ]
  },
  {
   "cell_type": "code",
   "execution_count": 7,
   "id": "9e422e45",
   "metadata": {},
   "outputs": [],
   "source": [
    "\n",
    "\n",
    "\n",
    "\n",
    "\n",
    "# Create labels\n",
    "label_RUSH = widgets.Label(\"RUSHBET\", layout=widgets.Layout(width='100px'))\n",
    "label_BWIN = widgets.Label(\"BWIN\", layout=widgets.Layout(width='100px'))\n",
    "#label_BETPLAY = widgets.Label(\"BETPLAY\", layout=widgets.Layout(width='100px'))\n",
    "\n",
    "label_Nombre = widgets.Label(\"Nombre: \", layout=widgets.Layout(width='100px'))\n",
    "label_Local = widgets.Label(\"Local: \", layout=widgets.Layout(width='100px'))\n",
    "label_Empate = widgets.Label(\"Empate: \", layout=widgets.Layout(width='100px'))\n",
    "label_Visitante = widgets.Label(\"Visitante: \", layout=widgets.Layout(width='100px'))\n",
    "label_Apuesta = widgets.Label(\"Apuesta: \", layout=widgets.Layout(width='100px'))\n",
    "\n",
    "\n",
    "# Create text boxes\n",
    "text_local_rush = widgets.Text(layout=widgets.Layout(width='100px'))\n",
    "text_local_bwin = widgets.Text(layout=widgets.Layout(width='100px'))\n",
    "#text_local_betplay = widgets.Text(layout=widgets.Layout(width='100px'))\n",
    "\n",
    "text_empate_rush = widgets.Text(layout=widgets.Layout(width='100px'))\n",
    "text_empate_bwin = widgets.Text(layout=widgets.Layout(width='100px'))\n",
    "#text_empate_betplay = widgets.Text(layout=widgets.Layout(width='100px'))\n",
    "\n",
    "text_visitante_rush = widgets.Text(layout=widgets.Layout(width='100px'))\n",
    "text_visitante_bwin = widgets.Text(layout=widgets.Layout(width='100px'))\n",
    "#text_visitante_betplay = widgets.Text(layout=widgets.Layout(width='100px'))\n",
    "\n",
    "text_apuesta_rush = widgets.Text(layout=widgets.Layout(width='100px'))\n",
    "#text_apuesta_bwin = widgets.Text(layout=widgets.Layout(width='100px'))\n",
    "\n",
    "#esta lista se usa en la funcion limpiar\n",
    "list_to_limpiar_text_widgets = [text_local_rush, text_local_bwin, text_empate_rush, text_empate_bwin, text_visitante_rush, text_visitante_bwin, text_apuesta_rush]\n",
    "\n",
    "# Row of labels\n",
    "row_labels = widgets.HBox([label_Nombre, label_RUSH, label_BWIN])\n",
    "                           #, label_BETPLAY])\n",
    "\n",
    "# Row of text inputs\n",
    "row_inputs_local = widgets.HBox([label_Local, text_local_rush, text_local_bwin])\n",
    "                                 #, text_local_betplay])\n",
    "row_inputs_empate = widgets.HBox([label_Empate, text_empate_rush, text_empate_bwin])\n",
    "                                  #, text_empate_betplay])\n",
    "row_inputs_visitante = widgets.HBox([label_Visitante, text_visitante_rush, text_visitante_bwin])\n",
    "                                     #, text_visitante_betplay])\n",
    "row_inputs_apuestas = widgets.HBox([label_Apuesta, text_apuesta_rush])\n",
    "\n",
    "form_table = widgets.VBox([row_labels, row_inputs_local, row_inputs_empate, row_inputs_visitante, row_inputs_apuestas])\n",
    "\n",
    "otra_apuesta = widgets.Label()\n",
    "\n",
    "button = widgets.Button(description=\"Mostrar tabla\")\n"
   ]
  },
  {
   "cell_type": "code",
   "execution_count": 8,
   "id": "901a1dc6",
   "metadata": {},
   "outputs": [
    {
     "data": {
      "application/vnd.jupyter.widget-view+json": {
       "model_id": "bec7757c30894d67bfca1a0e17a3ff2c",
       "version_major": 2,
       "version_minor": 0
      },
      "text/plain": [
       "Dropdown(description='Seleccionar:', options=('Seleccione una opcion', '1. Copiar secuencia', '2. Subir archiv…"
      ]
     },
     "metadata": {},
     "output_type": "display_data"
    },
    {
     "data": {
      "application/vnd.jupyter.widget-view+json": {
       "model_id": "381c922c4f0141be86dc9f18c1674ef0",
       "version_major": 2,
       "version_minor": 0
      },
      "text/plain": [
       "FileUpload(value={}, accept='.fas,.fasta', description='Upload')"
      ]
     },
     "metadata": {},
     "output_type": "display_data"
    },
    {
     "data": {
      "application/vnd.jupyter.widget-view+json": {
       "model_id": "fc8fb202fb58445485146ac62c3c2300",
       "version_major": 2,
       "version_minor": 0
      },
      "text/plain": [
       "Dropdown(description='Seleccionar:', options=('Seleccionar opcion', '1. Buscar secuencias en NCBI', '2. Trasla…"
      ]
     },
     "metadata": {},
     "output_type": "display_data"
    },
    {
     "data": {
      "application/vnd.jupyter.widget-view+json": {
       "model_id": "1daf107d013844338c3c1e24a57c17f8",
       "version_major": 2,
       "version_minor": 0
      },
      "text/plain": [
       "Text(value='', placeholder='filename')"
      ]
     },
     "metadata": {},
     "output_type": "display_data"
    },
    {
     "data": {
      "application/vnd.jupyter.widget-view+json": {
       "model_id": "a3c7e1885cb94fccb201bd438b254fc9",
       "version_major": 2,
       "version_minor": 0
      },
      "text/plain": [
       "Button(button_style='info', description='Buscar secuencias', icon='check', style=ButtonStyle())"
      ]
     },
     "metadata": {},
     "output_type": "display_data"
    }
   ],
   "source": [
    "with output1_w1:\n",
    "    \n",
    "    display(w1_dropdown)\n",
    "    \n",
    "#display(output1_w1, form_table, otra_apuesta, button)\n",
    "display(w1_dropdown, w2_file_upload, w3_dropdown, w4_text_name_file, w5_button_analysis)\n",
    "\n"
   ]
  },
  {
   "cell_type": "code",
   "execution_count": 9,
   "id": "d21cbc7d",
   "metadata": {},
   "outputs": [],
   "source": [
    "# import ipywidgets as widgets\n",
    "# from IPython.display import display\n",
    "# import os\n",
    "\n",
    "# #hello\n",
    "\n",
    "# # Widget para cargar archivo\n",
    "# uploader = widgets.FileUpload(\n",
    "#     accept='.xml',  # tipo de archivo permitido\n",
    "#     multiple=False  # permite solo uno a la vez\n",
    "# )\n",
    "\n",
    "# # Mostrar el uploader\n",
    "# display(widgets.HTML(\"<h4>Sube un archivo .xml desde tu equipo</h4>\"))\n",
    "# display(uploader)\n",
    "\n",
    "# output = widgets.Output()\n",
    "\n",
    "# def guardar_archivo(change):\n",
    "#     output.clear_output()\n",
    "#     with output:\n",
    "#         for filename, fileinfo in uploader.value.items():\n",
    "#             with open(filename, 'wb') as f:\n",
    "#                 f.write(fileinfo['content'])\n",
    "#             print(f\"Archivo guardado: {filename}\")\n",
    "\n",
    "# uploader.observe(guardar_archivo, names='value')\n",
    "# display(output)\n",
    "\n"
   ]
  }
 ],
 "metadata": {
  "kernelspec": {
   "display_name": "Python 3 (ipykernel)",
   "language": "python",
   "name": "python3"
  },
  "language_info": {
   "codemirror_mode": {
    "name": "ipython",
    "version": 3
   },
   "file_extension": ".py",
   "mimetype": "text/x-python",
   "name": "python",
   "nbconvert_exporter": "python",
   "pygments_lexer": "ipython3",
   "version": "3.11.7"
  }
 },
 "nbformat": 4,
 "nbformat_minor": 5
}
