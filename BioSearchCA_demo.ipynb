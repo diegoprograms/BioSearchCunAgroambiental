{
 "cells": [
  {
   "cell_type": "code",
   "execution_count": 1,
   "id": "36db9610",
   "metadata": {},
   "outputs": [],
   "source": [
    "import ipywidgets as widgets\n",
    "from IPython.display import display\n",
    "from IPython.display import HTML, display"
   ]
  },
  {
   "cell_type": "code",
   "execution_count": 2,
   "id": "1f4e3f51",
   "metadata": {},
   "outputs": [],
   "source": [
    "#variables\n",
    "\n",
    "output1_w1 = widgets.Output()  #output drop 1\n",
    "output2_w2 = widgets.Output()  #output button 2"
   ]
  },
  {
   "cell_type": "code",
   "execution_count": 3,
   "id": "c055fa7b",
   "metadata": {},
   "outputs": [
    {
     "data": {
      "application/vnd.jupyter.widget-view+json": {
       "model_id": "6fbd2edb8018433b8fe76c6aba247776",
       "version_major": 2,
       "version_minor": 0
      },
      "text/plain": [
       "HTML(value='\\n\\n<style>\\ndiv {\\n  text-align: justify;\\n  text-justify: inter-word;\\n}\\n</style>\\n\\n<h1><b>Bie…"
      ]
     },
     "metadata": {},
     "output_type": "display_data"
    }
   ],
   "source": [
    "\n",
    "\n",
    "\n",
    "\n",
    "display(widgets.HTML('''\n",
    "\n",
    "<style>\n",
    "div {\n",
    "  text-align: justify;\n",
    "  text-justify: inter-word;\n",
    "}\n",
    "</style>\n",
    "\n",
    "<h1><b>Bienvenido a BioSearchCundiAgroambiental</b><br></h1>\n",
    "\n",
    "<p>\n",
    "<div>\n",
    "A partir del modelo digital transmoderno MEDIT de la Universidad de Cundinamarca, \n",
    "donde una de sus estructuras es la integración y utilización de tecnologías digitales \n",
    "avanzadas para la educación y la investigación, encuentra en la combinación de Pandas \n",
    "y Biopython una herramienta excepcional para el análisis de secuencias biológicas. \n",
    "Este enfoque interdisciplinario y tecnológicamente avanzado, desarrollado por los \n",
    "grupos de investigación Agrociencia y Cundinamarca Agroambiental pertenecientes a la \n",
    "facultad de Ciencias Agropecuarias, facilita a los investigadores y estudiantes la \n",
    "manipulación eficiente y personalizada de grandes volúmenes de datos biológicos. \n",
    "Utilizando Pandas, se pueden organizar, filtrar y transformar datos de secuencias de \n",
    "manera intuitiva, mientras que Biopython proporciona funciones específicas para la bioinformática,\n",
    "como la lectura y alineación de secuencias. En comparación con herramientas \n",
    "tradicionales como BLAST, esta integración permite una flexibilidad y personalización superiores,\n",
    "esenciales para el análisis exploratorio y estadístico en contextos de investigación avanzada. \n",
    "Así, el MEDIT fomenta una educación y una investigación más profundas y robustas, apoyadas por \n",
    "tecnologías digitales que potencian el descubrimiento y la innovación científica. Por lo tanto, \n",
    "desde los grupos de investigación, se decide realizar un programa propio que permita el análisis \n",
    "de secuencias, con el fin de integrar a los estudiantes al uso de nuevas tecnologías para los \n",
    "campos investigativos y de aprendizaje.<br>\n",
    "<br>\n",
    "A continuación encontrará las intrucciones para la busqueda de secuencias.\n",
    "\n",
    "</div>\n",
    "\n",
    "<h2>BioSearchCA</h2>\n",
    "\n",
    "<p>\n",
    "\n",
    "\n",
    "El primer paso en BLAST es introducir la secuencia, sea un nucletido o una proteina, con el fin de compararla con las bases de datos existentes. Por lo tanto, en este programa el usuario puede:\n",
    "\n",
    "<ul>\n",
    "    <li>Copiar y pegar la secuencia. La secuencia puede estar en minuscula o mayuscula.</li>\n",
    "    <li>Subir el archivo desde su computador personal.</li>\n",
    "</ul>\n",
    "\n",
    "Seleccione la opcion a continuacion:\n",
    "\n",
    "</p>\n",
    "'''))\n",
    "\n",
    "\n",
    "\n"
   ]
  },
  {
   "cell_type": "code",
   "execution_count": 4,
   "id": "cee52735",
   "metadata": {},
   "outputs": [],
   "source": [
    "# Se crean los widget\n",
    "\n",
    "#PRIMER WIDGET\n",
    "w1_dropdown = widgets.Dropdown(\n",
    "    options=['Seleccione una opcion', '1. Copiar secuencia', '2. Subir archivo'],\n",
    "    value='Seleccione una opcion',\n",
    "    description='Seleccionar:'\n",
    ")\n",
    "\n"
   ]
  },
  {
   "cell_type": "code",
   "execution_count": 5,
   "id": "110c485f",
   "metadata": {},
   "outputs": [],
   "source": [
    "#RAMIFICACION PARA LA ELECCION 1.\n",
    "\n",
    "w1_adn_protenia_text = widgets.Text(description=\"Escribe:\")\n",
    "w1_adn_protenia_text.layout.display = 'none'\n"
   ]
  },
  {
   "cell_type": "code",
   "execution_count": 6,
   "id": "1c7cadf5",
   "metadata": {},
   "outputs": [],
   "source": [
    "#RAMIFICACION PARA LA ELECCION 2.\n",
    "w2_file_upload = widgets.FileUpload(\n",
    "    accept='.fas,.fasta',\n",
    "    multiple=False\n",
    ")\n",
    "\n",
    "w3_dropdown = widgets.Dropdown(\n",
    "    options=['Seleccionar opcion', '1. Buscar secuencias en NCBI', '2. Trasladar a secuencias de proteina'],\n",
    "    value='Seleccionar opcion',\n",
    "    description='Seleccionar:'\n",
    ")\n",
    "\n",
    "# Ocultar ambos inicialmente\n",
    "w2_file_upload.layout.display = 'none'\n",
    "w3_dropdown.layout.display = 'none'\n"
   ]
  },
  {
   "cell_type": "code",
   "execution_count": 7,
   "id": "4e10f339",
   "metadata": {},
   "outputs": [],
   "source": [
    "#RAMIFICACION DE WIDGETS PARA CAMINO 2.1\n",
    "\n",
    "w4_text_name_file = widgets.Text(\n",
    "    value='',\n",
    "    placeholder=\"filename\",\n",
    "    disabled=False\n",
    ")\n",
    "\n",
    "\n",
    "w4_button_create_folder = widgets.Button(\n",
    "    description='Crear carpeta',\n",
    "    disabled=False,\n",
    "    button_style='success',  # 'success', 'info', 'warning', 'danger' or ''\n",
    "    icon='check'\n",
    ")\n",
    "\n",
    "# Create a button widget\n",
    "w5_button_analysis = widgets.Button(\n",
    "    description='Buscar secuencias',\n",
    "    disabled=False,\n",
    "    button_style='info',  # 'success', 'info', 'warning', 'danger' or ''\n",
    "    icon='check'\n",
    ")"
   ]
  },
  {
   "cell_type": "code",
   "execution_count": 8,
   "id": "99308062",
   "metadata": {},
   "outputs": [],
   "source": [
    "def on_dropdown_change(change):\n",
    "    selected = change['new']\n",
    "    if selected == \"1. Copiar secuencia\":\n",
    "        w1_adn_protenia_text.layout.display = 'inline-flex'\n",
    "        w2_file_upload.layout.display = 'none'\n",
    "        w3_dropdown.layout.display = 'none'\n",
    "        \n",
    "    elif selected == \"2. Subir archivo\":\n",
    "        w1_adn_protenia_text.layout.display = 'none'\n",
    "        w2_file_upload.layout.display = 'inline-flex'\n",
    "        w3_dropdown.layout.display = 'inline-flex'\n",
    "    else:\n",
    "        # Si se vuelve a \"Seleccione una opción\"\n",
    "        w1_adn_protenia_text.layout.display = 'none'\n",
    "        w2_file_upload.layout.display = 'none'\n",
    "        w3_dropdown.layout.display = 'none'"
   ]
  },
  {
   "cell_type": "code",
   "execution_count": 9,
   "id": "901a1dc6",
   "metadata": {},
   "outputs": [
    {
     "data": {
      "application/vnd.jupyter.widget-view+json": {
       "model_id": "1cf14bfd06814a5bbdeee71381d4e09a",
       "version_major": 2,
       "version_minor": 0
      },
      "text/plain": [
       "Dropdown(description='Seleccionar:', options=('Seleccione una opcion', '1. Copiar secuencia', '2. Subir archiv…"
      ]
     },
     "metadata": {},
     "output_type": "display_data"
    },
    {
     "data": {
      "application/vnd.jupyter.widget-view+json": {
       "model_id": "44a3d5ce49984c738ffa49176a8fb5b1",
       "version_major": 2,
       "version_minor": 0
      },
      "text/plain": [
       "Text(value='', description='Escribe:', layout=Layout(display='none'))"
      ]
     },
     "metadata": {},
     "output_type": "display_data"
    },
    {
     "data": {
      "application/vnd.jupyter.widget-view+json": {
       "model_id": "d8756265249f4c73b3e50a2cb6b8df2b",
       "version_major": 2,
       "version_minor": 0
      },
      "text/plain": [
       "FileUpload(value={}, accept='.fas,.fasta', description='Upload', layout=Layout(display='none'))"
      ]
     },
     "metadata": {},
     "output_type": "display_data"
    },
    {
     "data": {
      "application/vnd.jupyter.widget-view+json": {
       "model_id": "186dd856d2424f50b24d2d5900a10593",
       "version_major": 2,
       "version_minor": 0
      },
      "text/plain": [
       "Dropdown(description='Seleccionar:', layout=Layout(display='none'), options=('Seleccionar opcion', '1. Buscar …"
      ]
     },
     "metadata": {},
     "output_type": "display_data"
    }
   ],
   "source": [
    "#mostar los widget\n",
    "\n",
    "\n",
    "display(w1_dropdown)# ver primer selector\n",
    "display(w1_adn_protenia_text)#ver ramificacion 1 \n",
    "display(w2_file_upload, w3_dropdown) #ver ramificacion 2\n",
    "#display(w4_text_name_file, w5_button_analysis) #ver ramificacion 2.1\n",
    "\n"
   ]
  },
  {
   "cell_type": "code",
   "execution_count": 10,
   "id": "2480778a",
   "metadata": {},
   "outputs": [],
   "source": [
    "#LLAMAR FUNCIONES DE LOS WIDGETS\n",
    "\n",
    "w1_dropdown.observe(on_dropdown_change, names='value')"
   ]
  },
  {
   "cell_type": "code",
   "execution_count": 11,
   "id": "d21cbc7d",
   "metadata": {},
   "outputs": [],
   "source": [
    "# import ipywidgets as widgets\n",
    "# from IPython.display import display\n",
    "# import os\n",
    "\n",
    "# #hello\n",
    "\n",
    "# # Widget para cargar archivo\n",
    "# uploader = widgets.FileUpload(\n",
    "#     accept='.xml',  # tipo de archivo permitido\n",
    "#     multiple=False  # permite solo uno a la vez\n",
    "# )\n",
    "\n",
    "# # Mostrar el uploader\n",
    "# display(widgets.HTML(\"<h4>Sube un archivo .xml desde tu equipo</h4>\"))\n",
    "# display(uploader)\n",
    "\n",
    "# output = widgets.Output()\n",
    "\n",
    "# def guardar_archivo(change):\n",
    "#     output.clear_output()\n",
    "#     with output:\n",
    "#         for filename, fileinfo in uploader.value.items():\n",
    "#             with open(filename, 'wb') as f:\n",
    "#                 f.write(fileinfo['content'])\n",
    "#             print(f\"Archivo guardado: {filename}\")\n",
    "\n",
    "# uploader.observe(guardar_archivo, names='value')\n",
    "# display(output)\n",
    "\n"
   ]
  }
 ],
 "metadata": {
  "kernelspec": {
   "display_name": "Python 3 (ipykernel)",
   "language": "python",
   "name": "python3"
  },
  "language_info": {
   "codemirror_mode": {
    "name": "ipython",
    "version": 3
   },
   "file_extension": ".py",
   "mimetype": "text/x-python",
   "name": "python",
   "nbconvert_exporter": "python",
   "pygments_lexer": "ipython3",
   "version": "3.11.7"
  }
 },
 "nbformat": 4,
 "nbformat_minor": 5
}
