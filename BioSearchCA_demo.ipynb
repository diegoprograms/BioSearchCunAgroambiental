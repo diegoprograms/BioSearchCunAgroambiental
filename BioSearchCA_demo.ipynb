{
 "cells": [
  {
   "cell_type": "markdown",
   "id": "890e085b",
   "metadata": {},
   "source": [
    "# BioSearchCA - Ejemplo básico de interacción con widgets\n",
    "\n",
    "Este notebook muestra un botón interactivo como demostración del funcionamiento basado en widgets."
   ]
  },
  {
   "cell_type": "code",
   "execution_count": null,
   "id": "d21cbc7d",
   "metadata": {},
   "outputs": [],
   "source": [
    "import ipywidgets as widgets\n",
    "from IPython.display import display\n",
    "import os\n",
    "\n",
    "# Widget para cargar archivo\n",
    "uploader = widgets.FileUpload(\n",
    "    accept='.xml',  # tipo de archivo permitido\n",
    "    multiple=False  # permite solo uno a la vez\n",
    ")\n",
    "\n",
    "# Mostrar el uploader\n",
    "display(widgets.HTML(\"<h4>Sube un archivo .xml desde tu equipo</h4>\"))\n",
    "display(uploader)\n",
    "\n",
    "# Función para guardar el archivo\n",
    "def guardar_archivo(change):\n",
    "    for filename, fileinfo in uploader.value.items():\n",
    "        with open(filename, 'wb') as f:\n",
    "            f.write(fileinfo['content'])\n",
    "        print(f\"Archivo guardado: {filename}\")\n",
    "\n",
    "# Ejecutar función cuando se suba archivo\n",
    "uploader.observe(guardar_archivo, names='value')\n"
   ]
  }
 ],
 "metadata": {
  "kernelspec": {
   "display_name": "Python 3 (ipykernel)",
   "language": "python",
   "name": "python3"
  },
  "language_info": {
   "codemirror_mode": {
    "name": "ipython",
    "version": 3
   },
   "file_extension": ".py",
   "mimetype": "text/x-python",
   "name": "python",
   "nbconvert_exporter": "python",
   "pygments_lexer": "ipython3",
   "version": "3.11.7"
  }
 },
 "nbformat": 4,
 "nbformat_minor": 5
}
