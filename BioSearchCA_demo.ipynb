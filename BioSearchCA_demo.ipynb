{
 "cells": [
  {
   "cell_type": "code",
   "execution_count": 2,
   "id": "c055fa7b",
   "metadata": {},
   "outputs": [
    {
     "data": {
      "application/vnd.jupyter.widget-view+json": {
       "model_id": "75f9f88aec834f35bcfa7e99776db250",
       "version_major": 2,
       "version_minor": 0
      },
      "text/plain": [
       "HTML(value='<h2>BioSearchCA</h2><p>Sube un archivo XML con información genética para su análisis.</p>')"
      ]
     },
     "metadata": {},
     "output_type": "display_data"
    }
   ],
   "source": [
    "import ipywidgets as widgets\n",
    "from IPython.display import display\n",
    "\n",
    "display(widgets.HTML(\"<h2>BioSearchCA</h2><p>Sube un archivo XML con información genética para su análisis.</p>\"))\n"
   ]
  },
  {
   "cell_type": "code",
   "execution_count": null,
   "id": "d21cbc7d",
   "metadata": {},
   "outputs": [],
   "source": [
    "import ipywidgets as widgets\n",
    "from IPython.display import display\n",
    "import os\n",
    "\n",
    "#hello\n",
    "\n",
    "# Widget para cargar archivo\n",
    "uploader = widgets.FileUpload(\n",
    "    accept='.xml',  # tipo de archivo permitido\n",
    "    multiple=False  # permite solo uno a la vez\n",
    ")\n",
    "\n",
    "# Mostrar el uploader\n",
    "display(widgets.HTML(\"<h4>Sube un archivo .xml desde tu equipo</h4>\"))\n",
    "display(uploader)\n",
    "\n",
    "output = widgets.Output()\n",
    "\n",
    "def guardar_archivo(change):\n",
    "    output.clear_output()\n",
    "    with output:\n",
    "        for filename, fileinfo in uploader.value.items():\n",
    "            with open(filename, 'wb') as f:\n",
    "                f.write(fileinfo['content'])\n",
    "            print(f\"Archivo guardado: {filename}\")\n",
    "\n",
    "uploader.observe(guardar_archivo, names='value')\n",
    "display(output)\n",
    "\n"
   ]
  }
 ],
 "metadata": {
  "kernelspec": {
   "display_name": "Python 3 (ipykernel)",
   "language": "python",
   "name": "python3"
  },
  "language_info": {
   "codemirror_mode": {
    "name": "ipython",
    "version": 3
   },
   "file_extension": ".py",
   "mimetype": "text/x-python",
   "name": "python",
   "nbconvert_exporter": "python",
   "pygments_lexer": "ipython3",
   "version": "3.11.7"
  }
 },
 "nbformat": 4,
 "nbformat_minor": 5
}
